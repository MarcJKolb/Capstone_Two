{
 "cells": [
  {
   "cell_type": "markdown",
   "metadata": {},
   "source": [
    "# Economic Factors to Student Achievement by State\n",
    "## Data Merge, Compilation, and Cleaning"
   ]
  },
  {
   "cell_type": "code",
   "execution_count": 1,
   "metadata": {},
   "outputs": [],
   "source": [
    "import pandas as pd\n",
    "import numpy as np\n",
    "\n",
    "#Importing all external data\n",
    "\n",
    "district_data = pd.read_csv(r'Data\\School_District_Characteristics_Current.csv', index_col=0)\n",
    "state_income = pd.read_csv(r'Data\\Household_Median_Income_2017.csv')\n",
    "unemployment_rate = pd.read_csv(r'Data\\Unemployment_Rate_Raw.csv')\n",
    "math_scores = pd.read_excel(r'Data\\Mathematics_Grade_8.xlsx')\n",
    "reading_scores = pd.read_excel(r'Data\\Reading_Grade_8.xlsx')"
   ]
  },
  {
   "cell_type": "markdown",
   "metadata": {},
   "source": [
    "Merging all the data together."
   ]
  },
  {
   "cell_type": "code",
   "execution_count": 52,
   "metadata": {},
   "outputs": [],
   "source": [
    "state_data = pd.merge(state_income, unemployment_rate, how='left', left_on='State', right_on='Geography')\n",
    "state_data.to_csv('Data\\Testdata.csv')"
   ]
  }
 ],
 "metadata": {
  "kernelspec": {
   "display_name": "Python 3.9.12 ('base')",
   "language": "python",
   "name": "python3"
  },
  "language_info": {
   "codemirror_mode": {
    "name": "ipython",
    "version": 3
   },
   "file_extension": ".py",
   "mimetype": "text/x-python",
   "name": "python",
   "nbconvert_exporter": "python",
   "pygments_lexer": "ipython3",
   "version": "3.9.12"
  },
  "orig_nbformat": 4,
  "vscode": {
   "interpreter": {
    "hash": "52905d967f39656c7299d11033468600bf709a64d51740f5ce4cbb6611f102ea"
   }
  }
 },
 "nbformat": 4,
 "nbformat_minor": 2
}
