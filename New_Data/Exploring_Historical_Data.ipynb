{
 "cells": [
  {
   "cell_type": "markdown",
   "metadata": {},
   "source": [
    "## Population Data"
   ]
  },
  {
   "cell_type": "code",
   "execution_count": 66,
   "metadata": {},
   "outputs": [],
   "source": [
    "import pandas as pd\n",
    "pop_hist_url = \"https://en.wikipedia.org/wiki/List_of_U.S._states_and_territories_by_historical_population\"\n",
    "pop_hist_html = pd.read_html(pop_hist_url)\n",
    "pop_hist = pop_hist_html[3]\n",
    "pop_hist.drop([2, 9, 12, 37, 48, 56], inplace=True)\n",
    "pop_hist.drop(labels=['1960', '1970', '1980', '1990', '2000'], axis=1, inplace=True)\n",
    "pop_hist.set_index('Name', inplace=True)"
   ]
  },
  {
   "cell_type": "markdown",
   "metadata": {},
   "source": [
    "## Unemployment Data 2010"
   ]
  },
  {
   "cell_type": "code",
   "execution_count": 67,
   "metadata": {},
   "outputs": [],
   "source": [
    "unemp_2010_url = \"https://www.ncsl.org/research/labor-and-employment/state-unemployment-monthly-rates-for-2010.aspx\"\n",
    "unemp_2010_html = pd.read_html(unemp_2010_url)\n",
    "unemp_2010 = unemp_2010_html[0]\n",
    "unemp_2010.drop([0], inplace=True)\n",
    "unemp_2010.columns = unemp_2010.iloc[0]\n",
    "unemp_2010.drop([1, 10], inplace=True)\n",
    "unemp_2010.set_index('State', inplace=True)\n",
    "unemp_2010['Mean'] = unemp_2010.astype(float).mean(axis=1, skipna=False)"
   ]
  },
  {
   "cell_type": "markdown",
   "metadata": {},
   "source": [
    "## Unemployment Data 2020"
   ]
  },
  {
   "cell_type": "code",
   "execution_count": 68,
   "metadata": {},
   "outputs": [],
   "source": [
    "unemp_2020_url = \"https://www.bls.gov/lau/lastrk20.htm\"\n",
    "unemp_2020_html = pd.read_html(unemp_2020_url)\n",
    "unemp_2020 = unemp_2020_html[0]\n",
    "unemp_2020.drop([0,1,35, 53, 54], inplace=True)\n",
    "unemp_2020.sort_values(by='State', inplace=True)\n",
    "unemp_2020.set_index('State', inplace=True)"
   ]
  },
  {
   "cell_type": "markdown",
   "metadata": {},
   "source": [
    "## Combining Data So Far"
   ]
  },
  {
   "cell_type": "code",
   "execution_count": 72,
   "metadata": {},
   "outputs": [],
   "source": [
    "full_data = pop_hist\n",
    "full_data['2010 Unemployment Rate'] = unemp_2010['Mean'].astype(float)\n",
    "full_data['2020 Unemployment Rate'] = unemp_2020['2020rate'].astype(float)"
   ]
  }
 ],
 "metadata": {
  "kernelspec": {
   "display_name": "Python 3.9.12 ('base')",
   "language": "python",
   "name": "python3"
  },
  "language_info": {
   "codemirror_mode": {
    "name": "ipython",
    "version": 3
   },
   "file_extension": ".py",
   "mimetype": "text/x-python",
   "name": "python",
   "nbconvert_exporter": "python",
   "pygments_lexer": "ipython3",
   "version": "3.9.12"
  },
  "orig_nbformat": 4,
  "vscode": {
   "interpreter": {
    "hash": "52905d967f39656c7299d11033468600bf709a64d51740f5ce4cbb6611f102ea"
   }
  }
 },
 "nbformat": 4,
 "nbformat_minor": 2
}
